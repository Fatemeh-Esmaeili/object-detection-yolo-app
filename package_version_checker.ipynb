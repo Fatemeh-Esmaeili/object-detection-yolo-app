{
 "cells": [
  {
   "cell_type": "code",
   "execution_count": 1,
   "id": "2482ffa0-0ff5-469f-a708-30cc10aae868",
   "metadata": {},
   "outputs": [
    {
     "name": "stdout",
     "output_type": "stream",
     "text": [
      "0.2.7\n"
     ]
    }
   ],
   "source": [
    "import cvlib\n",
    "print(cvlib.__version__)"
   ]
  },
  {
   "cell_type": "code",
   "execution_count": 2,
   "id": "56bad0ad-0ba2-437b-927c-655b7cf27fb1",
   "metadata": {},
   "outputs": [
    {
     "name": "stdout",
     "output_type": "stream",
     "text": [
      "Name: cvlib\n",
      "Version: 0.2.7\n",
      "Summary: A simple, high level, easy to use, open source computer vision library for python\n",
      "Home-page: https://github.com/arunponnusamy/cvlib.git\n",
      "Author: Arun Ponnusamy\n",
      "Author-email: hello@arunponnusamy.com\n",
      "License: MIT\n",
      "Location: D:\\Projects\\object-detection-yolo-app\\venvODYA\\Lib\\site-packages\n",
      "Requires: imageio, imutils, numpy, pillow, progressbar, requests\n",
      "Required-by: \n"
     ]
    }
   ],
   "source": [
    "!D:\\Projects\\object-detection-yolo-app\\venvODYA\\Scripts\\pip show cvlib"
   ]
  },
  {
   "cell_type": "code",
   "execution_count": 3,
   "id": "eb2f021c-e3ba-442a-90f7-ac8cc39789af",
   "metadata": {},
   "outputs": [
    {
     "name": "stdout",
     "output_type": "stream",
     "text": [
      "4.10.0\n"
     ]
    }
   ],
   "source": [
    "# opencv-python version\n",
    "import cv2\n",
    "print(cv2.__version__)"
   ]
  },
  {
   "cell_type": "code",
   "execution_count": 4,
   "id": "2b642016-5b1a-4332-b347-c25e3e3617f3",
   "metadata": {},
   "outputs": [
    {
     "name": "stdout",
     "output_type": "stream",
     "text": [
      "Name: opencv-python\n",
      "Version: 4.10.0.84\n",
      "Summary: Wrapper package for OpenCV python bindings.\n",
      "Home-page: https://github.com/opencv/opencv-python\n",
      "Author: \n",
      "Author-email: \n",
      "License: Apache 2.0\n",
      "Location: D:\\Projects\\object-detection-yolo-app\\venvODYA\\Lib\\site-packages\n",
      "Requires: numpy\n",
      "Required-by: \n"
     ]
    }
   ],
   "source": [
    "!D:\\Projects\\object-detection-yolo-app\\venvODYA\\Scripts\\pip show opencv-python"
   ]
  },
  {
   "cell_type": "code",
   "execution_count": 5,
   "id": "5d4f4f02-445d-4c7d-b6a4-7644837ad3d7",
   "metadata": {},
   "outputs": [
    {
     "name": "stdout",
     "output_type": "stream",
     "text": [
      "Name: opencv-python-headless\n",
      "Version: 4.10.0.84\n",
      "Summary: Wrapper package for OpenCV python bindings.\n",
      "Home-page: https://github.com/opencv/opencv-python\n",
      "Author: \n",
      "Author-email: \n",
      "License: Apache 2.0\n",
      "Location: D:\\Projects\\object-detection-yolo-app\\venvODYA\\Lib\\site-packages\n",
      "Requires: numpy\n",
      "Required-by: \n"
     ]
    }
   ],
   "source": [
    "!D:\\Projects\\object-detection-yolo-app\\venvODYA\\Scripts\\pip show opencv-python-headless"
   ]
  },
  {
   "cell_type": "code",
   "execution_count": 6,
   "id": "362df752-e422-424a-a5ed-912637e6f840",
   "metadata": {},
   "outputs": [
    {
     "name": "stdout",
     "output_type": "stream",
     "text": [
      "11.0.0\n"
     ]
    }
   ],
   "source": [
    "#Pillow package\n",
    "import PIL\n",
    "print(PIL.__version__)"
   ]
  },
  {
   "cell_type": "code",
   "execution_count": 7,
   "id": "7c7deced-3cef-480b-8ef4-0c49777d7d83",
   "metadata": {},
   "outputs": [
    {
     "name": "stdout",
     "output_type": "stream",
     "text": [
      "Name: pillow\n",
      "Version: 11.0.0\n",
      "Summary: Python Imaging Library (Fork)\n",
      "Home-page: https://python-pillow.org\n",
      "Author: \n",
      "Author-email: \"Jeffrey A. Clark\" <aclark@aclark.net>\n",
      "License: MIT-CMU\n",
      "Location: D:\\Projects\\object-detection-yolo-app\\venvODYA\\Lib\\site-packages\n",
      "Requires: \n",
      "Required-by: cvlib, imageio\n"
     ]
    }
   ],
   "source": [
    "!D:\\Projects\\object-detection-yolo-app\\venvODYA\\Scripts\\pip show Pillow"
   ]
  },
  {
   "cell_type": "code",
   "execution_count": 8,
   "id": "445ae9ed-b2a8-42b5-84ff-cf5284033412",
   "metadata": {},
   "outputs": [
    {
     "data": {
      "text/plain": [
       "'2.18.0'"
      ]
     },
     "execution_count": 8,
     "metadata": {},
     "output_type": "execute_result"
    }
   ],
   "source": [
    "import tensorflow\n",
    "tensorflow.__version__"
   ]
  },
  {
   "cell_type": "code",
   "execution_count": 9,
   "id": "8cf688d5-3669-412e-96d9-d87efca21495",
   "metadata": {},
   "outputs": [
    {
     "name": "stdout",
     "output_type": "stream",
     "text": [
      "Name: tensorflow\n",
      "Version: 2.18.0\n",
      "Summary: TensorFlow is an open source machine learning framework for everyone.\n",
      "Home-page: https://www.tensorflow.org/\n",
      "Author: Google Inc.\n",
      "Author-email: packages@tensorflow.org\n",
      "License: Apache 2.0\n",
      "Location: D:\\Projects\\object-detection-yolo-app\\venvODYA\\Lib\\site-packages\n",
      "Requires: tensorflow-intel\n",
      "Required-by: \n"
     ]
    }
   ],
   "source": [
    "!D:\\Projects\\object-detection-yolo-app\\venvODYA\\Scripts\\pip show tensorflow"
   ]
  },
  {
   "cell_type": "code",
   "execution_count": 10,
   "id": "36bc4c79-d41d-4bb8-b42d-eeca22294db2",
   "metadata": {},
   "outputs": [
    {
     "data": {
      "text/plain": [
       "'0.32.0'"
      ]
     },
     "execution_count": 10,
     "metadata": {},
     "output_type": "execute_result"
    }
   ],
   "source": [
    "import uvicorn\n",
    "uvicorn.__version__"
   ]
  },
  {
   "cell_type": "code",
   "execution_count": 11,
   "id": "f4c351ba-260e-40bb-b65d-7d2fae657f32",
   "metadata": {},
   "outputs": [
    {
     "name": "stdout",
     "output_type": "stream",
     "text": [
      "Name: uvicorn\n",
      "Version: 0.32.0\n",
      "Summary: The lightning-fast ASGI server.\n",
      "Home-page: https://www.uvicorn.org/\n",
      "Author: \n",
      "Author-email: Tom Christie <tom@tomchristie.com>, Marcelo Trylesinski <marcelotryle@gmail.com>\n",
      "License: \n",
      "Location: D:\\Projects\\object-detection-yolo-app\\venvODYA\\Lib\\site-packages\n",
      "Requires: click, h11\n",
      "Required-by: fastapi-cli\n"
     ]
    }
   ],
   "source": [
    "!D:\\Projects\\object-detection-yolo-app\\venvODYA\\Scripts\\pip show uvicorn"
   ]
  },
  {
   "cell_type": "code",
   "execution_count": 12,
   "id": "06ecb52b-ebd7-43c0-9154-bca5fed72e44",
   "metadata": {},
   "outputs": [
    {
     "name": "stdout",
     "output_type": "stream",
     "text": [
      "0.0.17\n"
     ]
    }
   ],
   "source": [
    "import multipart\n",
    "print(multipart.__version__)"
   ]
  },
  {
   "cell_type": "code",
   "execution_count": 13,
   "id": "f3964697-0b60-4f12-960b-e679c9beaf23",
   "metadata": {},
   "outputs": [
    {
     "name": "stdout",
     "output_type": "stream",
     "text": [
      "Name: python-multipart\n",
      "Version: 0.0.17\n",
      "Summary: A streaming multipart parser for Python\n",
      "Home-page: https://github.com/Kludex/python-multipart\n",
      "Author: \n",
      "Author-email: Andrew Dunham <andrew@du.nham.ca>, Marcelo Trylesinski <marcelotryle@gmail.com>\n",
      "License: \n",
      "Location: D:\\Projects\\object-detection-yolo-app\\venvODYA\\Lib\\site-packages\n",
      "Requires: \n",
      "Required-by: \n"
     ]
    }
   ],
   "source": [
    "!D:\\Projects\\object-detection-yolo-app\\venvODYA\\Scripts\\pip show python-multipart"
   ]
  },
  {
   "cell_type": "code",
   "execution_count": 14,
   "id": "3ce6451c-68bc-43d4-8ca0-9fc8f3b7a8b7",
   "metadata": {},
   "outputs": [
    {
     "data": {
      "text/plain": [
       "'0.115.4'"
      ]
     },
     "execution_count": 14,
     "metadata": {},
     "output_type": "execute_result"
    }
   ],
   "source": [
    "import fastapi\n",
    "fastapi.__version__"
   ]
  },
  {
   "cell_type": "code",
   "execution_count": 15,
   "id": "49483c98-cea5-4128-a3d0-fdc114cbecbc",
   "metadata": {},
   "outputs": [
    {
     "name": "stdout",
     "output_type": "stream",
     "text": [
      "Name: fastapi\n",
      "Version: 0.115.4\n",
      "Summary: FastAPI framework, high performance, easy to learn, fast to code, ready for production\n",
      "Home-page: https://github.com/fastapi/fastapi\n",
      "Author: \n",
      "Author-email: =?utf-8?q?Sebasti=C3=A1n_Ram=C3=ADrez?= <tiangolo@gmail.com>\n",
      "License: \n",
      "Location: D:\\Projects\\object-detection-yolo-app\\venvODYA\\Lib\\site-packages\n",
      "Requires: pydantic, starlette, typing-extensions\n",
      "Required-by: \n"
     ]
    }
   ],
   "source": [
    "!D:\\Projects\\object-detection-yolo-app\\venvODYA\\Scripts\\pip show fastapi"
   ]
  },
  {
   "cell_type": "code",
   "execution_count": 16,
   "id": "c4fc83a6-ddb7-4c20-8130-23ee2c754250",
   "metadata": {},
   "outputs": [
    {
     "name": "stdout",
     "output_type": "stream",
     "text": [
      "Name: nest-asyncio\n",
      "Version: 1.6.0\n",
      "Summary: Patch asyncio to allow nested event loops\n",
      "Home-page: https://github.com/erdewit/nest_asyncio\n",
      "Author: Ewald R. de Wit\n",
      "Author-email: ewald.de.wit@gmail.com\n",
      "License: BSD\n",
      "Location: D:\\Projects\\object-detection-yolo-app\\venvODYA\\Lib\\site-packages\n",
      "Requires: \n",
      "Required-by: ipykernel\n"
     ]
    }
   ],
   "source": [
    "import nest_asyncio\n",
    "#print(nest_asyncio.__version__)  #module 'nest_asyncio' has no attribute '__version__'\n",
    "!D:\\Projects\\object-detection-yolo-app\\venvODYA\\Scripts\\pip show nest-asyncio"
   ]
  },
  {
   "cell_type": "code",
   "execution_count": 17,
   "id": "22b8c4af-86e6-43d6-9f8d-9236ce60a693",
   "metadata": {},
   "outputs": [
    {
     "name": "stdout",
     "output_type": "stream",
     "text": [
      "Package                 Version\n",
      "----------------------- -----------\n",
      "absl-py                 2.1.0\n",
      "annotated-types         0.7.0\n",
      "anyio                   4.6.2.post1\n",
      "asttokens               2.4.1\n",
      "astunparse              1.6.3\n",
      "certifi                 2024.8.30\n",
      "charset-normalizer      3.4.0\n",
      "click                   8.1.7\n",
      "colorama                0.4.6\n",
      "comm                    0.2.2\n",
      "cvlib                   0.2.7\n",
      "debugpy                 1.8.7\n",
      "decorator               5.1.1\n",
      "dnspython               2.7.0\n",
      "email_validator         2.2.0\n",
      "executing               2.1.0\n",
      "fastapi                 0.115.4\n",
      "fastapi-cli             0.0.5\n",
      "flatbuffers             24.3.25\n",
      "gast                    0.6.0\n",
      "google-pasta            0.2.0\n",
      "grpcio                  1.67.1\n",
      "h11                     0.14.0\n",
      "h5py                    3.12.1\n",
      "httpcore                1.0.6\n",
      "httptools               0.6.4\n",
      "httpx                   0.27.2\n",
      "idna                    3.10\n",
      "imageio                 2.36.0\n",
      "imutils                 0.5.4\n",
      "ipykernel               6.29.5\n",
      "ipython                 8.29.0\n",
      "jedi                    0.19.1\n",
      "Jinja2                  3.1.4\n",
      "jupyter_client          8.6.3\n",
      "jupyter_core            5.7.2\n",
      "keras                   3.6.0\n",
      "libclang                18.1.1\n",
      "Markdown                3.7\n",
      "markdown-it-py          3.0.0\n",
      "MarkupSafe              3.0.2\n",
      "matplotlib-inline       0.1.7\n",
      "mdurl                   0.1.2\n",
      "ml-dtypes               0.4.1\n",
      "namex                   0.0.8\n",
      "nest-asyncio            1.6.0\n",
      "numpy                   2.0.2\n",
      "opencv-python           4.10.0.84\n",
      "opencv-python-headless  4.10.0.84\n",
      "opt_einsum              3.4.0\n",
      "optree                  0.13.0\n",
      "packaging               24.1\n",
      "parso                   0.8.4\n",
      "pillow                  11.0.0\n",
      "pip                     24.3.1\n",
      "platformdirs            4.3.6\n",
      "progressbar             2.5\n",
      "prompt_toolkit          3.0.48\n",
      "protobuf                5.28.3\n",
      "psutil                  6.1.0\n",
      "pure_eval               0.2.3\n",
      "pydantic                2.9.2\n",
      "pydantic_core           2.23.4\n",
      "Pygments                2.18.0\n",
      "python-dateutil         2.9.0.post0\n",
      "python-dotenv           1.0.1\n",
      "python-multipart        0.0.17\n",
      "pywin32                 308\n",
      "PyYAML                  6.0.2\n",
      "pyzmq                   26.2.0\n",
      "requests                2.32.3\n",
      "rich                    13.9.4\n",
      "setuptools              75.3.0\n",
      "shellingham             1.5.4\n",
      "six                     1.16.0\n",
      "sniffio                 1.3.1\n",
      "stack-data              0.6.3\n",
      "starlette               0.41.2\n",
      "tensorboard             2.18.0\n",
      "tensorboard-data-server 0.7.2\n",
      "tensorflow              2.18.0\n",
      "tensorflow_intel        2.18.0\n",
      "termcolor               2.5.0\n",
      "tornado                 6.4.1\n",
      "traitlets               5.14.3\n",
      "typer                   0.12.5\n",
      "typing_extensions       4.12.2\n",
      "urllib3                 2.2.3\n",
      "uvicorn                 0.32.0\n",
      "watchfiles              0.24.0\n",
      "wcwidth                 0.2.13\n",
      "websockets              13.1\n",
      "Werkzeug                3.1.2\n",
      "wheel                   0.44.0\n",
      "wrapt                   1.16.0\n"
     ]
    }
   ],
   "source": [
    "!D:\\Projects\\object-detection-yolo-app\\venvODYA\\Scripts\\pip list"
   ]
  }
 ],
 "metadata": {
  "kernelspec": {
   "display_name": "venvODYA",
   "language": "python",
   "name": "venvodya"
  },
  "language_info": {
   "codemirror_mode": {
    "name": "ipython",
    "version": 3
   },
   "file_extension": ".py",
   "mimetype": "text/x-python",
   "name": "python",
   "nbconvert_exporter": "python",
   "pygments_lexer": "ipython3",
   "version": "3.12.2"
  }
 },
 "nbformat": 4,
 "nbformat_minor": 5
}
